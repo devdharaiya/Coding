{
 "cells": [
  {
   "cell_type": "code",
   "execution_count": 1,
   "metadata": {},
   "outputs": [
    {
     "name": "stdout",
     "output_type": "stream",
     "text": [
      "Hello! My name is Dev & I am glad to be a part of this course.\n",
      "Hello there\n",
      "Hello there1\n",
      "Welcome! Dev\n"
     ]
    }
   ],
   "source": [
    "print('Hello! My name is Dev & I am glad to be a part of this course.')\n",
    "d = \"Hello \" + \"there\"\n",
    "print(d)\n",
    "e = d + '1'\n",
    "print(e)\n",
    "name = input(\"Who are you?\")\n",
    "print('Welcome!',name)"
   ]
  },
  {
   "cell_type": "code",
   "execution_count": 2,
   "metadata": {},
   "outputs": [
    {
     "name": "stdout",
     "output_type": "stream",
     "text": [
      "Pay: 1625.0\n"
     ]
    }
   ],
   "source": [
    "#Assignment 2.3\n",
    "# get data\n",
    "hours = input(\"Working Hours?\")\n",
    "rph = input(\"Rate per hour?\")\n",
    "\n",
    "#convert to int\n",
    "hours = int(hours)\n",
    "rph = float(rph)\n",
    "\n",
    "print('Pay:', hours * rph)"
   ]
  },
  {
   "cell_type": "code",
   "execution_count": 4,
   "metadata": {},
   "outputs": [
    {
     "name": "stdout",
     "output_type": "stream",
     "text": [
      "Invalid Amount\n"
     ]
    }
   ],
   "source": [
    "#Assignment 3.1\n",
    "hrs = input(\"Hours Worked?\")\n",
    "rph = input(\"Rate per Hour?\")\n",
    "\n",
    "try:\n",
    "    hours = float(hrs)\n",
    "    rate = float(rph)\n",
    "\n",
    "    if hours <= 40:\n",
    "        grosspay = hours * rate\n",
    "    else:\n",
    "        extra = hours - 40\n",
    "        grosspay = (40 * rate) + (extra * rate * 1.5)\n",
    "    print(\"Gross Pay:\", grosspay)\n",
    "except:\n",
    "    print(\"Invalid Amount\")"
   ]
  },
  {
   "cell_type": "code",
   "execution_count": null,
   "metadata": {},
   "outputs": [],
   "source": [
    "# #Assignment 3.3\n",
    "score = input(\"What's your score?\")\n",
    "try:\n",
    "    grade = float(score)\n",
    "    if grade > 1:\n",
    "        print(\"Please enter score in range.\")\n",
    "    elif grade >= 0.9:\n",
    "        print(\"A\")\n",
    "    elif grade >= 0.8:\n",
    "        print(\"B\")\n",
    "    elif grade >= 0.7:\n",
    "        print(\"C\")\n",
    "    elif grade >= 0.6:\n",
    "        print(\"D\")\n",
    "    else:\n",
    "        print(\"F\")\n",
    "except:\n",
    "    print(\"Please enter a valid score.\")"
   ]
  },
  {
   "cell_type": "code",
   "execution_count": null,
   "metadata": {},
   "outputs": [],
   "source": [
    "#Assignment 4.6\n",
    "hrs = input(\"Hours Worked?\")\n",
    "rph = input(\"Rate per Hour?\")\n",
    "\n",
    "try:\n",
    "    hours = float(hrs)\n",
    "    rate = float(rph)\n",
    "    def computepay():\n",
    "        if hours <= 40:\n",
    "            grosspay = hours * rate\n",
    "        else:\n",
    "            extra = hours - 40\n",
    "            grosspay = (40 * rate) + (extra * rate * 1.5)\n",
    "        return grosspay\n",
    "    print('Pay ', computepay())\n",
    "except:\n",
    "    print(\"Invalid Amount\")\n",
    "\n",
    "while True:\n",
    "    line = input('> ')\n",
    "    if line[0] == '#':\n",
    "        continue\n",
    "    if line == 'done':\n",
    "        break\n",
    "    print(line)\n",
    "print('End')"
   ]
  },
  {
   "cell_type": "code",
   "execution_count": 6,
   "metadata": {},
   "outputs": [
    {
     "name": "stdout",
     "output_type": "stream",
     "text": [
      "Invalid Amount\n",
      "Invalid Amount\n",
      "Invalid Amount\n",
      "Invalid Amount\n",
      "Total: 0 Count: 0 Average: 45.0\n"
     ]
    }
   ],
   "source": [
    "#Assignment 5.1\n",
    "count = 0\n",
    "sum = 0\n",
    "\n",
    "while True:\n",
    "    storage = input(\"Enter a Number: \")\n",
    "    try:\n",
    "        house = float(storage)\n",
    "        count = count + 1\n",
    "        sum = house + sum\n",
    "        average = sum / count        \n",
    "    except:\n",
    "        if storage == \"Done\": break\n",
    "        print(\"Invalid Amount\")\n",
    "        continue    \n",
    "print('Total:', sum, 'Count:', count, 'Average:', average)"
   ]
  },
  {
   "cell_type": "code",
   "execution_count": 7,
   "metadata": {},
   "outputs": [
    {
     "name": "stdout",
     "output_type": "stream",
     "text": [
      "Maximum is 100.0\n",
      "Minimum is 1.0\n"
     ]
    }
   ],
   "source": [
    "#Assignment 5.2\n",
    "\n",
    "min = None\n",
    "max = None\n",
    "\n",
    "while True:\n",
    "    storage = input(\"Enter a Number: \")\n",
    "    try:\n",
    "        house = float(storage)\n",
    "        if min is None:\n",
    "            min = house\n",
    "        if min > house:\n",
    "            min = house\n",
    "        if max is None:\n",
    "            max = house\n",
    "        if max < house:\n",
    "            max = house       \n",
    "    except:\n",
    "        if storage == \"Done\":\n",
    "            break\n",
    "        print(\"Invalid Amount\")\n",
    "        continue    \n",
    "print(\"Maximum is\", max)\n",
    "print(\"Minimum is\", min)"
   ]
  }
 ],
 "metadata": {
  "kernelspec": {
   "display_name": "Python 3",
   "language": "python",
   "name": "python3"
  },
  "language_info": {
   "codemirror_mode": {
    "name": "ipython",
    "version": 3
   },
   "file_extension": ".py",
   "mimetype": "text/x-python",
   "name": "python",
   "nbconvert_exporter": "python",
   "pygments_lexer": "ipython3",
   "version": "3.12.6"
  }
 },
 "nbformat": 4,
 "nbformat_minor": 2
}
